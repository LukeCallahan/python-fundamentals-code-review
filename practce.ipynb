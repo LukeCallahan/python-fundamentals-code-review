{
 "cells": [
  {
   "cell_type": "markdown",
   "metadata": {},
   "source": [
    "1. A function called list_sayer() that takes a list as an argument\n",
    "\n",
    "If the list isn't empty (i.e. there's one or more items in it):\n",
    "print a string for each item saying the name of the item and its index\n",
    "return the Boolean True\n",
    "If the list is empty:\n",
    "print a string saying that the list is empty\n",
    "return the Boolean False"
   ]
  },
  {
   "cell_type": "code",
   "execution_count": 15,
   "metadata": {},
   "outputs": [
    {
     "name": "stdout",
     "output_type": "stream",
     "text": [
      "This list is empty\n",
      "Index: 0 has value: 10\n",
      "Index: 1 has value: 11\n",
      "Index: 2 has value: 21\n",
      "Index: 3 has value: 31\n",
      "Index: 4 has value: 41\n",
      "Index: 5 has value: 51\n",
      "Index: 6 has value: 61\n",
      "Index: 7 has value: 71\n"
     ]
    },
    {
     "data": {
      "text/plain": [
       "True"
      ]
     },
     "execution_count": 15,
     "metadata": {},
     "output_type": "execute_result"
    }
   ],
   "source": [
    "empty_list = []\n",
    "my_list = [10, 11, 21, 31, 41, 51, 61, 71]\n",
    "def list_sayer(list):\n",
    "  if len(list) > 0:\n",
    "    for item in list:\n",
    "      print(f\"Index: {list.index(item)} has value: {item}\") \n",
    "    return True\n",
    "  else:\n",
    "    print(\"This list is empty\")\n",
    "    return False\n",
    "\n",
    "list_sayer(empty_list)\n",
    "list_sayer(my_list)"
   ]
  },
  {
   "cell_type": "markdown",
   "metadata": {},
   "source": [
    "2. A function called dict_sayer() that takes a dictionary as an argument\n",
    "\n",
    "If the dictionary isn't empty (i.e. there's one or more items in it):\n",
    "print a string for each item saying the name of each key and its value\n",
    "return the Boolean True\n",
    "If the dictionary is empty:\n",
    "print a string saying that the dictionary is empty\n",
    "return the Boolean False"
   ]
  },
  {
   "cell_type": "code",
   "execution_count": 27,
   "metadata": {},
   "outputs": [
    {
     "name": "stdout",
     "output_type": "stream",
     "text": [
      "This dictionary is empty\n",
      "Here are all the items in your dictionary.. \n",
      "Key: 'Tree', Value: 'Madrone'\n",
      "Key: 'Fruit', Value: 'Persimmon'\n",
      "Key: 'Seed', Value: 'Chestnut'\n"
     ]
    },
    {
     "data": {
      "text/plain": [
       "True"
      ]
     },
     "execution_count": 27,
     "metadata": {},
     "output_type": "execute_result"
    }
   ],
   "source": [
    "empty_dict = {}\n",
    "full_dict = {\"Tree\" : \"Madrone\", \"Fruit\": \"Persimmon\", \"Seed\": \"Chestnut\"}\n",
    "\n",
    "def dict_sayer(dictionary):\n",
    "  if len(dictionary) == 0:\n",
    "    print(\"This dictionary is empty\")\n",
    "    return False\n",
    "  elif len(dictionary) > 0:\n",
    "    print(f\"Here are all the items in your dictionary.. \")\n",
    "    for key, value in dictionary.items():\n",
    "        print(f\"Key: '{key}', Value: '{value}'\")\n",
    "    return True    \n",
    "  else:\n",
    "    print(\"I don't know what's going on but I taking your dictionary into the shop, I've never seen this before.\")  \n",
    "\n",
    "dict_sayer(empty_dict)\n",
    "dict_sayer(full_dict)"
   ]
  },
  {
   "cell_type": "markdown",
   "metadata": {},
   "source": [
    "3. A function called greatest() that takes as an argument a dictionary that has strings as keys and integers as values\n",
    "\n",
    "find the greatest value\n",
    "\n",
    "return a tuple with the greatest value and its key"
   ]
  },
  {
   "cell_type": "code",
   "execution_count": 1,
   "metadata": {},
   "outputs": [
    {
     "data": {
      "text/plain": [
       "('Bus Wheels', 6)"
      ]
     },
     "execution_count": 1,
     "metadata": {},
     "output_type": "execute_result"
    }
   ],
   "source": [
    "too_many_wheels = {\"Tractor Wheels\": 4, \"Van Wheels\": 4, \"Bus Wheels\": 6, \"Bike Wheels\": 2, \"Burley Wheels\": 2}\n",
    "\n",
    "def greatest(dictionary):\n",
    "  highest_value = max(dictionary, key=dictionary.get)\n",
    "  highest_tuple = (highest_value, too_many_wheels[highest_value])\n",
    "  return highest_tuple\n",
    "  \n",
    "greatest(too_many_wheels)"
   ]
  },
  {
   "cell_type": "markdown",
   "metadata": {},
   "source": [
    "4. A function called zipper() that takes two lists as arguments\n",
    "\n",
    "If the lists are the same length:\n",
    "return a dictionary that has the items of the first list as keys, and each item in the same index in the second list as the value > For instance, the lists [\"vanilla\", \"cherry\"] and [\"cake\", \"ice_cream\"] would return {\"vanilla\": \"cake\", \"cherry\": \"ice_cream\"}\n",
    "If the lists are different lengths:\n",
    "return a tuple with each list and its length > For instance, the lists [\"vanilla\", \"cherry\", \"pistachio\"] and [\"cake\", \"ice_cream\"] would return ([\"vanilla\", \"cherry\", \"pistachio\"], 3, [\"cake\", \"ice_cream\"], 4)\n"
   ]
  },
  {
   "cell_type": "code",
   "execution_count": 68,
   "metadata": {},
   "outputs": [
    {
     "data": {
      "text/plain": [
       "{'dogwood': 'flower',\n",
       " 'peach': 'fruit',\n",
       " 'pear': 'cider ingredient',\n",
       " 'pawpaw': 'northern tropical relative'}"
      ]
     },
     "execution_count": 68,
     "metadata": {},
     "output_type": "execute_result"
    }
   ],
   "source": [
    "import itertools #doesn't seem like I need this... but not entirely sure.\n",
    "\n",
    "same_list1 = [\"dogwood\", \"peach\", \"pear\", \"pawpaw\"]\n",
    "same_list2 = [\"flower\", \"fruit\", \"cider ingredient\", \"northern tropical relative\"]\n",
    "diff_list1 = [\"wooly bear\", \"fox\", \"bear\"]\n",
    "diff_list2 = [\"caterpillar\", \"stinkbug\"]\n",
    "zipped_dict = {}\n",
    "zipped_tuple = ()\n",
    "\n",
    "def zipper(list1, list2):\n",
    "  if len(list1) == len(list2):\n",
    "    for (list_item_1, list_item_2) in zip(list1, list2):\n",
    "      dict_item =  {list_item_1: list_item_2}\n",
    "      zipped_dict.update(dict_item)\n",
    "    return zipped_dict\n",
    "  \n",
    "  else:\n",
    "    zipped_tuple = (list1, len(list1), list2, len(list2))\n",
    "    return zipped_tuple\n",
    "\n",
    "zipper(same_list1, same_list2)\n",
    "zipper(diff_list1, diff_list2)"
   ]
  },
  {
   "cell_type": "code",
   "execution_count": null,
   "metadata": {},
   "outputs": [],
   "source": []
  }
 ],
 "metadata": {
  "kernelspec": {
   "display_name": "Python 3.7.15 ('venv': venv)",
   "language": "python",
   "name": "python3"
  },
  "language_info": {
   "codemirror_mode": {
    "name": "ipython",
    "version": 3
   },
   "file_extension": ".py",
   "mimetype": "text/x-python",
   "name": "python",
   "nbconvert_exporter": "python",
   "pygments_lexer": "ipython3",
   "version": "3.7.15"
  },
  "orig_nbformat": 4,
  "vscode": {
   "interpreter": {
    "hash": "0325a14c77ca755a7d941ccc99a9d73c229bfb19bc212c5c8be93df9720c400f"
   }
  }
 },
 "nbformat": 4,
 "nbformat_minor": 2
}
